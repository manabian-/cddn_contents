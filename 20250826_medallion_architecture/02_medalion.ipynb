{
 "cells": [
  {
   "cell_type": "markdown",
   "metadata": {
    "application/vnd.databricks.v1+cell": {
     "cellMetadata": {
      "byteLimit": 2048000,
      "rowLimit": 10000
     },
     "inputWidgets": {},
     "nuid": "f0b5ce6f-780f-4249-8e16-6bbcdb7ebbd6",
     "showTitle": false,
     "tableResultSettingsMap": {},
     "title": ""
    }
   },
   "source": [
    "# メダリオンアーキテクチャ実践"
   ]
  },
  {
   "cell_type": "markdown",
   "metadata": {
    "application/vnd.databricks.v1+cell": {
     "cellMetadata": {},
     "inputWidgets": {},
     "nuid": "3c74e382-4683-4610-8ae6-a7e6d61f9c0c",
     "showTitle": false,
     "tableResultSettingsMap": {},
     "title": ""
    }
   },
   "source": [
    "\n",
    "本ノートブックでは、 DQX によるデータ品質チェックを実施して、データを隔離する方法を紹介します。\n"
   ]
  },
  {
   "cell_type": "markdown",
   "metadata": {
    "application/vnd.databricks.v1+cell": {
     "cellMetadata": {
      "byteLimit": 2048000,
      "rowLimit": 10000
     },
     "inputWidgets": {},
     "nuid": "fe597bf2-5093-4954-97e1-9bca43973417",
     "showTitle": false,
     "tableResultSettingsMap": {},
     "title": ""
    }
   },
   "source": [
    "## 事前準備"
   ]
  },
  {
   "cell_type": "code",
   "execution_count": 0,
   "metadata": {
    "application/vnd.databricks.v1+cell": {
     "cellMetadata": {
      "byteLimit": 2048000,
      "rowLimit": 10000
     },
     "inputWidgets": {},
     "nuid": "7bcbe2bb-930f-4bb8-b0cf-d09aa8340797",
     "showTitle": false,
     "tableResultSettingsMap": {},
     "title": ""
    }
   },
   "outputs": [],
   "source": [
    "%run ./01_config"
   ]
  },
  {
   "cell_type": "code",
   "execution_count": 0,
   "metadata": {
    "application/vnd.databricks.v1+cell": {
     "cellMetadata": {
      "byteLimit": 2048000,
      "rowLimit": 10000
     },
     "inputWidgets": {},
     "nuid": "fe422432-e342-4d7c-b5ae-5879a5ae836f",
     "showTitle": false,
     "tableResultSettingsMap": {},
     "title": ""
    }
   },
   "outputs": [],
   "source": []
  },
  {
   "cell_type": "code",
   "execution_count": 0,
   "metadata": {
    "application/vnd.databricks.v1+cell": {
     "cellMetadata": {
      "byteLimit": 2048000,
      "rowLimit": 10000
     },
     "inputWidgets": {},
     "nuid": "ca8e62e2-0b04-4479-9b78-7a13eb83c20d",
     "showTitle": false,
     "tableResultSettingsMap": {},
     "title": ""
    }
   },
   "outputs": [],
   "source": [
    "# スキーマを作成\n",
    "spark.sql(f\"CREATE SCHEMA IF NOT EXISTS {catalog_name}.{schema_name}\")"
   ]
  },
  {
   "cell_type": "code",
   "execution_count": 0,
   "metadata": {
    "application/vnd.databricks.v1+cell": {
     "cellMetadata": {
      "byteLimit": 2048000,
      "rowLimit": 10000
     },
     "inputWidgets": {},
     "nuid": "ab16cba1-8772-418a-bf73-0094f8a15d09",
     "showTitle": false,
     "tableResultSettingsMap": {},
     "title": ""
    }
   },
   "outputs": [],
   "source": [
    "# Volume の作成\n",
    "spark.sql(f\"CREATE VOLUME IF NOT EXISTS {catalog_name}.{schema_name}.{volume_name}\")\n",
    "\n",
    "# Volume の初期化\n",
    "dbutils.fs.rm(volume_dir, True)"
   ]
  },
  {
   "cell_type": "markdown",
   "metadata": {
    "application/vnd.databricks.v1+cell": {
     "cellMetadata": {
      "byteLimit": 2048000,
      "rowLimit": 10000
     },
     "inputWidgets": {},
     "nuid": "ad22de83-1d47-4902-abf9-b143c623a82e",
     "showTitle": false,
     "tableResultSettingsMap": {},
     "title": ""
    }
   },
   "source": [
    "## Landing（ソースデータ）の準備"
   ]
  },
  {
   "cell_type": "code",
   "execution_count": 0,
   "metadata": {
    "application/vnd.databricks.v1+cell": {
     "cellMetadata": {
      "byteLimit": 2048000,
      "rowLimit": 10000
     },
     "inputWidgets": {},
     "nuid": "ef03394d-51d4-4b98-a736-f294b5f638bd",
     "showTitle": false,
     "tableResultSettingsMap": {},
     "title": ""
    }
   },
   "outputs": [],
   "source": [
    "%run ./02_medalion_data"
   ]
  },
  {
   "cell_type": "code",
   "execution_count": 0,
   "metadata": {
    "application/vnd.databricks.v1+cell": {
     "cellMetadata": {
      "byteLimit": 2048000,
      "rowLimit": 10000
     },
     "inputWidgets": {},
     "nuid": "3ceb924e-d570-405b-9b72-dcb75bbe4687",
     "showTitle": false,
     "tableResultSettingsMap": {},
     "title": ""
    }
   },
   "outputs": [],
   "source": [
    "print(data_01)"
   ]
  },
  {
   "cell_type": "code",
   "execution_count": 0,
   "metadata": {
    "application/vnd.databricks.v1+cell": {
     "cellMetadata": {
      "byteLimit": 2048000,
      "rowLimit": 10000
     },
     "inputWidgets": {},
     "nuid": "7013c4e8-9a77-4c03-8b90-6841bbf100fd",
     "showTitle": false,
     "tableResultSettingsMap": {},
     "title": ""
    }
   },
   "outputs": [],
   "source": [
    "# ディレクトリを作成\n",
    "landing_dir = volume_dir + \"/landing\"\n",
    "dbutils.fs.mkdirs(landing_dir)\n",
    "dbutils.fs.rm(landing_dir, True)"
   ]
  },
  {
   "cell_type": "code",
   "execution_count": 0,
   "metadata": {
    "application/vnd.databricks.v1+cell": {
     "cellMetadata": {
      "byteLimit": 2048000,
      "rowLimit": 10000
     },
     "inputWidgets": {},
     "nuid": "1c9832bd-a554-474c-bf5e-932a94ff6ed2",
     "showTitle": false,
     "tableResultSettingsMap": {},
     "title": ""
    }
   },
   "outputs": [],
   "source": [
    "# Databrikcks (Spark) からアクセスする方法\n",
    "display(dbutils.fs.ls(volume_dir))"
   ]
  },
  {
   "cell_type": "code",
   "execution_count": 0,
   "metadata": {
    "application/vnd.databricks.v1+cell": {
     "cellMetadata": {
      "byteLimit": 2048000,
      "rowLimit": 10000
     },
     "inputWidgets": {},
     "nuid": "070be7b8-13bf-4790-9dbf-6b38f926db58",
     "showTitle": false,
     "tableResultSettingsMap": {},
     "title": ""
    }
   },
   "outputs": [],
   "source": [
    "# Python からも Volume にアクセス可能\n",
    "import os\n",
    "\n",
    "for f in os.listdir(volume_dir):\n",
    "    full_path = os.path.abspath(os.path.join(volume_dir, f))\n",
    "    print(full_path)"
   ]
  },
  {
   "cell_type": "code",
   "execution_count": 0,
   "metadata": {
    "application/vnd.databricks.v1+cell": {
     "cellMetadata": {
      "byteLimit": 2048000,
      "rowLimit": 10000
     },
     "inputWidgets": {},
     "nuid": "19ee281b-9d7c-4965-a7a5-019cce267fc8",
     "showTitle": false,
     "tableResultSettingsMap": {},
     "title": ""
    }
   },
   "outputs": [],
   "source": [
    "# データ取り込み日の Hive パーティションを含めたディレクトリをセット\n",
    "ingest_timestamp = \"/audit__ingest_timestamp=2025-01-01 00:00:00\"\n",
    "file_name = \"data.csv\"\n",
    "\n",
    "file_dir = landing_dir + ingest_timestamp \n",
    "os.makedirs(file_dir, exist_ok=True)\n",
    "\n",
    "file_path = file_dir + \"/\" + file_name\n",
    "print(file_path)"
   ]
  },
  {
   "cell_type": "code",
   "execution_count": 0,
   "metadata": {
    "application/vnd.databricks.v1+cell": {
     "cellMetadata": {
      "byteLimit": 2048000,
      "rowLimit": 10000
     },
     "inputWidgets": {},
     "nuid": "f930af29-6f72-4908-a115-a22c56c45468",
     "showTitle": false,
     "tableResultSettingsMap": {},
     "title": ""
    }
   },
   "outputs": [],
   "source": [
    "# ファイルに書き込む\n",
    "with open(file_path, \"w\", encoding=\"utf-8\") as f:\n",
    "    f.write(data_01)"
   ]
  },
  {
   "cell_type": "code",
   "execution_count": 0,
   "metadata": {
    "application/vnd.databricks.v1+cell": {
     "cellMetadata": {
      "byteLimit": 2048000,
      "rowLimit": 10000
     },
     "inputWidgets": {},
     "nuid": "2c86a7f6-9163-484b-bbb8-ce1b990607ca",
     "showTitle": false,
     "tableResultSettingsMap": {},
     "title": ""
    }
   },
   "outputs": [],
   "source": [
    "# ディレクトリを確認\n",
    "print(\"-- landing_dir\")\n",
    "display(dbutils.fs.ls(landing_dir))\n",
    "print(\"-- file_dir\")\n",
    "display(dbutils.fs.ls(file_dir))"
   ]
  },
  {
   "cell_type": "code",
   "execution_count": 0,
   "metadata": {
    "application/vnd.databricks.v1+cell": {
     "cellMetadata": {
      "byteLimit": 2048000,
      "rowLimit": 10000
     },
     "inputWidgets": {},
     "nuid": "ffbe12f3-9719-4b2a-ab02-2393ad251557",
     "showTitle": false,
     "tableResultSettingsMap": {},
     "title": ""
    }
   },
   "outputs": [],
   "source": [
    "# ファイル内容を確認\n",
    "print(dbutils.fs.head(file_path))"
   ]
  },
  {
   "cell_type": "code",
   "execution_count": 0,
   "metadata": {
    "application/vnd.databricks.v1+cell": {
     "cellMetadata": {
      "byteLimit": 2048000,
      "rowLimit": 10000
     },
     "inputWidgets": {},
     "nuid": "c022951b-8bcb-451a-82fa-05ff48101e16",
     "showTitle": false,
     "tableResultSettingsMap": {},
     "title": ""
    }
   },
   "outputs": [],
   "source": [
    "# file_path を指定して Spark でデータを読み込む\n",
    "df = (\n",
    "    spark.read.format(\"csv\")\n",
    "    .option(\"header\", True)\n",
    "    .option(\"inferSchema\", True)\n",
    "    .load(file_path)\n",
    ")\n",
    "df.printSchema()\n",
    "df.display()"
   ]
  },
  {
   "cell_type": "code",
   "execution_count": 0,
   "metadata": {
    "application/vnd.databricks.v1+cell": {
     "cellMetadata": {
      "byteLimit": 2048000,
      "rowLimit": 10000
     },
     "inputWidgets": {},
     "nuid": "57d68603-7a53-45cc-85d9-c491c23adabf",
     "showTitle": false,
     "tableResultSettingsMap": {},
     "title": ""
    }
   },
   "outputs": [],
   "source": [
    "# landing_dir を指定して Spark でデータを読み込む\n",
    "df = (\n",
    "    spark.read.format(\"csv\")\n",
    "    .option(\"header\", True)\n",
    "    .option(\"inferSchema\", True)\n",
    "    .load(landing_dir)\n",
    ")\n",
    "df.printSchema()\n",
    "df.display()"
   ]
  },
  {
   "cell_type": "markdown",
   "metadata": {
    "application/vnd.databricks.v1+cell": {
     "cellMetadata": {
      "byteLimit": 2048000,
      "rowLimit": 10000
     },
     "inputWidgets": {},
     "nuid": "82f6467c-684e-430c-bd6b-58ca2a04c148",
     "showTitle": false,
     "tableResultSettingsMap": {},
     "title": ""
    }
   },
   "source": [
    "## Bronze の処理の準備"
   ]
  },
  {
   "cell_type": "code",
   "execution_count": 0,
   "metadata": {
    "application/vnd.databricks.v1+cell": {
     "cellMetadata": {
      "byteLimit": 2048000,
      "rowLimit": 10000
     },
     "inputWidgets": {},
     "nuid": "fe1cec57-c6c0-465c-a278-643d3e8d52cb",
     "showTitle": false,
     "tableResultSettingsMap": {},
     "title": ""
    }
   },
   "outputs": [],
   "source": [
    "# テーブル名を指定\n",
    "bronze_table_name = \"bronze_01\"\n",
    "bronze_table_full_name = f\"{catalog_name}.{schema_name}.{bronze_table_name}\""
   ]
  },
  {
   "cell_type": "code",
   "execution_count": 0,
   "metadata": {
    "application/vnd.databricks.v1+cell": {
     "cellMetadata": {
      "byteLimit": 2048000,
      "rowLimit": 10000
     },
     "inputWidgets": {},
     "nuid": "71648076-4af0-45cc-afdb-d3fda37ce9fd",
     "showTitle": false,
     "tableResultSettingsMap": {},
     "title": ""
    }
   },
   "outputs": [],
   "source": [
    "# チェックポイントのディレクトリを指定\n",
    "checkpoint_dir_01 = f\"{volume_dir}/bronze_01_checkpoint\"\n",
    "dbutils.fs.rm(checkpoint_dir_01, True)"
   ]
  },
  {
   "cell_type": "code",
   "execution_count": 0,
   "metadata": {
    "application/vnd.databricks.v1+cell": {
     "cellMetadata": {
      "byteLimit": 2048000,
      "rowLimit": 10000
     },
     "inputWidgets": {},
     "nuid": "799351d7-2a82-4b8c-8fa0-380ba5d37962",
     "showTitle": false,
     "tableResultSettingsMap": {},
     "title": ""
    }
   },
   "outputs": [],
   "source": [
    "# 連携項目を文字型の Bronze テーブルを作成\n",
    "spark.sql(f\"\"\"\n",
    "CREATE OR REPLACE TABLE {bronze_table_full_name} (\n",
    "    n_nationkey STRING,\n",
    "    n_name STRING,\n",
    "    n_regionkey STRING,\n",
    "    n_comment STRING,\n",
    "    ingest_timestamp timestamp \n",
    ")\n",
    "\"\"\")"
   ]
  },
  {
   "cell_type": "code",
   "execution_count": 0,
   "metadata": {
    "application/vnd.databricks.v1+cell": {
     "cellMetadata": {
      "byteLimit": 2048000,
      "rowLimit": 10000
     },
     "inputWidgets": {},
     "nuid": "d4a95e32-8cc5-4057-b9d8-88218fbba270",
     "showTitle": false,
     "tableResultSettingsMap": {},
     "title": ""
    }
   },
   "outputs": [],
   "source": [
    "df = (\n",
    "    spark.readStream.format(\"cloudFiles\")\n",
    "    .option(\"cloudFiles.format\", \"csv\")\n",
    "    .option(\"header\", True)\n",
    "    .option(\"inferSchema\", False)\n",
    "    .option(\"cloudFiles.schemaLocation\", checkpoint_dir_01)\n",
    "    .load(landing_dir)\n",
    ")"
   ]
  },
  {
   "cell_type": "code",
   "execution_count": 0,
   "metadata": {
    "application/vnd.databricks.v1+cell": {
     "cellMetadata": {
      "byteLimit": 2048000,
      "rowLimit": 10000
     },
     "inputWidgets": {},
     "nuid": "5fd0e874-4154-4c9c-9c3c-521d9247a0e0",
     "showTitle": false,
     "tableResultSettingsMap": {},
     "title": ""
    }
   },
   "outputs": [],
   "source": [
    "(\n",
    "    df.writeStream.format(\"delta\")\n",
    "    .option(\"mergeSchema\", True)\n",
    "    .option(\"checkpointLocation\", checkpoint_dir_01)\n",
    "    .outputMode(\"append\")\n",
    "    .trigger(availableNow=True)\n",
    "    .table(bronze_table_full_name)\n",
    ")"
   ]
  },
  {
   "cell_type": "code",
   "execution_count": 0,
   "metadata": {
    "application/vnd.databricks.v1+cell": {
     "cellMetadata": {
      "byteLimit": 2048000,
      "rowLimit": 10000
     },
     "inputWidgets": {},
     "nuid": "ec3483eb-3eeb-4aff-8cf9-35358e7e4706",
     "showTitle": false,
     "tableResultSettingsMap": {},
     "title": ""
    }
   },
   "outputs": [],
   "source": [
    "import time\n",
    "\n",
    "# 数秒待機\n",
    "time.sleep(2)"
   ]
  },
  {
   "cell_type": "code",
   "execution_count": 0,
   "metadata": {
    "application/vnd.databricks.v1+cell": {
     "cellMetadata": {
      "byteLimit": 2048000,
      "rowLimit": 10000
     },
     "inputWidgets": {},
     "nuid": "e1902cc5-9a23-45e5-88a8-bc386b92e9a5",
     "showTitle": false,
     "tableResultSettingsMap": {
      "0": {
       "dataGridStateBlob": "{\"version\":1,\"tableState\":{\"columnPinning\":{\"left\":[\"#row_number#\"],\"right\":[]},\"columnSizing\":{},\"columnVisibility\":{}},\"settings\":{\"columns\":{}},\"syncTimestamp\":1756183380202}",
       "filterBlob": null,
       "queryPlanFiltersBlob": null,
       "tableResultIndex": 0
      }
     },
     "title": ""
    }
   },
   "outputs": [],
   "source": [
    "df = spark.table(bronze_table_full_name)\n",
    "df.display()"
   ]
  },
  {
   "cell_type": "code",
   "execution_count": 0,
   "metadata": {
    "application/vnd.databricks.v1+cell": {
     "cellMetadata": {
      "byteLimit": 2048000,
      "rowLimit": 10000
     },
     "inputWidgets": {},
     "nuid": "35e7a10a-78af-40b9-94ea-983e75225a45",
     "showTitle": false,
     "tableResultSettingsMap": {},
     "title": ""
    }
   },
   "outputs": [],
   "source": [
    "# chekpoint のディレクトリを確認\n",
    "display(dbutils.fs.ls(checkpoint_dir_01))\n",
    "\n"
   ]
  },
  {
   "cell_type": "code",
   "execution_count": 0,
   "metadata": {
    "application/vnd.databricks.v1+cell": {
     "cellMetadata": {
      "byteLimit": 2048000,
      "rowLimit": 10000
     },
     "inputWidgets": {},
     "nuid": "3498d855-09d5-4531-a443-4dd337631a0f",
     "showTitle": false,
     "tableResultSettingsMap": {},
     "title": ""
    }
   },
   "outputs": [],
   "source": [
    "# 取り込み済みファイルを確認\n",
    "df = spark.sql(\n",
    "    f\"\"\"\n",
    "    SELECT * FROM cloud_files_state('{checkpoint_dir_01}');\n",
    "    \"\"\"\n",
    ")\n",
    "df.display()"
   ]
  },
  {
   "cell_type": "code",
   "execution_count": 0,
   "metadata": {
    "application/vnd.databricks.v1+cell": {
     "cellMetadata": {
      "byteLimit": 2048000,
      "rowLimit": 10000
     },
     "inputWidgets": {},
     "nuid": "2d44fd13-b651-4535-9ed0-ca665df3dd44",
     "showTitle": false,
     "tableResultSettingsMap": {},
     "title": ""
    }
   },
   "outputs": [],
   "source": [
    "# _schemas 配下を確認\n",
    "import json\n",
    "import pprint\n",
    "\n",
    "print(\"-- _schemas\")\n",
    "print(dbutils.fs.head(checkpoint_dir_01 + \"/_schemas/0\"))\n",
    "\n",
    "text = dbutils.fs.head(checkpoint_dir_01 + \"/_schemas/0\")\n",
    "lines = text.splitlines()\n",
    "second_line = lines[1] if len(lines) > 1 else None\n",
    "\n",
    "print(\"\")\n",
    "print(\"-- json\")\n",
    "second_line_dict = json.loads(second_line)\n",
    "pprint.pprint(second_line_dict)\n",
    "\n",
    "print(\"\")\n",
    "print(\"-- dataSchemaJson\")\n",
    "dataSchemaJson = json.loads(second_line_dict[\"dataSchemaJson\"])\n",
    "pprint.pprint(dataSchemaJson)"
   ]
  },
  {
   "cell_type": "markdown",
   "metadata": {
    "application/vnd.databricks.v1+cell": {
     "cellMetadata": {
      "byteLimit": 2048000,
      "rowLimit": 10000
     },
     "inputWidgets": {},
     "nuid": "a739bca1-9431-4503-ba14-d7dc6db23e05",
     "showTitle": false,
     "tableResultSettingsMap": {},
     "title": ""
    }
   },
   "source": [
    "## Silver の処理"
   ]
  },
  {
   "cell_type": "code",
   "execution_count": 0,
   "metadata": {
    "application/vnd.databricks.v1+cell": {
     "cellMetadata": {
      "byteLimit": 2048000,
      "rowLimit": 10000
     },
     "inputWidgets": {},
     "nuid": "da705fa7-a4ad-46fb-bc0b-a93456d73e0c",
     "showTitle": false,
     "tableResultSettingsMap": {},
     "title": ""
    }
   },
   "outputs": [],
   "source": [
    "# テーブル名を指定\n",
    "silver_table_name = \"silver_01\"\n",
    "silver_table_full_name = f\"{catalog_name}.{schema_name}.{silver_table_name}\""
   ]
  },
  {
   "cell_type": "code",
   "execution_count": 0,
   "metadata": {
    "application/vnd.databricks.v1+cell": {
     "cellMetadata": {
      "byteLimit": 2048000,
      "rowLimit": 10000
     },
     "inputWidgets": {},
     "nuid": "d4497c14-e2d9-46dd-a86d-13b3cd420c0f",
     "showTitle": false,
     "tableResultSettingsMap": {},
     "title": ""
    }
   },
   "outputs": [],
   "source": [
    "# Silver テーブルを作成\n",
    "spark.sql(f\"\"\"\n",
    "CREATE OR REPLACE TABLE {silver_table_full_name} (\n",
    "    n_nationkey INT,\n",
    "    n_name STRING,\n",
    "    n_regionkey INT,\n",
    "    n_comment STRING,\n",
    "    audit__ingest_timestamp timestamp \n",
    ")\n",
    "\"\"\")"
   ]
  },
  {
   "cell_type": "code",
   "execution_count": 0,
   "metadata": {
    "application/vnd.databricks.v1+cell": {
     "cellMetadata": {
      "byteLimit": 2048000,
      "rowLimit": 10000
     },
     "inputWidgets": {},
     "nuid": "79d17f16-0266-437e-ba73-7925083ba6dd",
     "showTitle": false,
     "tableResultSettingsMap": {},
     "title": ""
    }
   },
   "outputs": [],
   "source": [
    "# bronze table における主キーごとの最新レコードを取得\n",
    "slv_records = f\"\"\"\n",
    "SELECT\n",
    "    n_nationkey,\n",
    "    MAX(audit__ingest_timestamp) AS max_ingest_timestamp\n",
    "    FROM\n",
    "        {bronze_table_full_name}\n",
    "    GROUP BY\n",
    "        n_nationkey\n",
    "\"\"\"\n",
    "slv_records_df = spark.sql(slv_records)\n",
    "\n",
    "# 一時ビューを定義\n",
    "temp_view_name = \"slv_records\"\n",
    "slv_records_df.createOrReplaceTempView(temp_view_name)\n",
    "\n",
    "# データを確認\n",
    "slv_records_df.display()"
   ]
  },
  {
   "cell_type": "code",
   "execution_count": 0,
   "metadata": {
    "application/vnd.databricks.v1+cell": {
     "cellMetadata": {
      "byteLimit": 2048000,
      "rowLimit": 10000
     },
     "inputWidgets": {},
     "nuid": "7bb7c7d8-c144-4255-a5f8-8487bbbd6a8e",
     "showTitle": false,
     "tableResultSettingsMap": {},
     "title": ""
    }
   },
   "outputs": [],
   "source": [
    "# Siver テーブルに反映対象のデータを取得\n",
    "brz_to_slv_sql = f\"\"\"\n",
    "SELECT\n",
    "    TRY_CAST(brz.n_nationkey AS INT) AS n_nationkey,\n",
    "    brz.n_name,\n",
    "    TRY_CAST(brz.n_regionkey AS INT) AS n_regionkey,\n",
    "    brz.n_comment,\n",
    "    audit__ingest_timestamp AS audit__ingest_timestamp\n",
    "    FROM\n",
    "        {bronze_table_full_name} AS brz\n",
    "    INNER JOIN \n",
    "        slv_records AS slv\n",
    "        ON \n",
    "            brz.n_nationkey =  slv.n_nationkey\n",
    "            AND brz.audit__ingest_timestamp =  slv.max_ingest_timestamp\n",
    "\"\"\"\n",
    "df = spark.sql(brz_to_slv_sql)\n",
    "\n",
    "# dropDuplicates関数にて、主キーの一意性を保証。連携日ごとの一意性が保証されないことがあるため。\n",
    "df = df.drop_duplicates(['n_nationkey'])\n",
    "\n",
    "df.display()"
   ]
  },
  {
   "cell_type": "code",
   "execution_count": 0,
   "metadata": {
    "application/vnd.databricks.v1+cell": {
     "cellMetadata": {
      "byteLimit": 2048000,
      "rowLimit": 10000
     },
     "inputWidgets": {},
     "nuid": "1c9d4c52-dc9b-4c85-8e20-1601a475f59f",
     "showTitle": false,
     "tableResultSettingsMap": {},
     "title": ""
    }
   },
   "outputs": [],
   "source": [
    "# Merge処理を実行\n",
    "temp_view_name_02 = f'_tmp_product2__silver'\n",
    "df.createOrReplaceTempView(temp_view_name_02)\n",
    "\n",
    "returned_df = spark.sql(f'''\n",
    "MERGE INTO {silver_table_full_name} AS tgt\n",
    "  USING {temp_view_name_02} AS src\n",
    "  \n",
    "  ON tgt.n_nationkey = src.n_nationkey \n",
    "\n",
    "  WHEN MATCHED\n",
    "  AND tgt.audit__ingest_timestamp < src.audit__ingest_timestamp\n",
    "    THEN UPDATE SET *\n",
    "  WHEN NOT MATCHED\n",
    "    THEN INSERT *\n",
    "''')\n",
    "returned_df.display()"
   ]
  },
  {
   "cell_type": "code",
   "execution_count": 0,
   "metadata": {
    "application/vnd.databricks.v1+cell": {
     "cellMetadata": {
      "byteLimit": 2048000,
      "rowLimit": 10000
     },
     "inputWidgets": {},
     "nuid": "12985e3e-69f1-4ef6-9836-c3481a6c52e2",
     "showTitle": false,
     "tableResultSettingsMap": {},
     "title": ""
    }
   },
   "outputs": [],
   "source": [
    "df = spark.table(silver_table_full_name)\n",
    "df.display()"
   ]
  },
  {
   "cell_type": "markdown",
   "metadata": {
    "application/vnd.databricks.v1+cell": {
     "cellMetadata": {},
     "inputWidgets": {},
     "nuid": "c716c40d-0343-4ad8-8165-dd6945d66616",
     "showTitle": false,
     "tableResultSettingsMap": {},
     "title": ""
    }
   },
   "source": [
    "## Gold の処理"
   ]
  },
  {
   "cell_type": "code",
   "execution_count": 0,
   "metadata": {
    "application/vnd.databricks.v1+cell": {
     "cellMetadata": {
      "byteLimit": 2048000,
      "rowLimit": 10000
     },
     "inputWidgets": {},
     "nuid": "4bad0d63-f17e-4db7-b402-c6f6e76fcb1d",
     "showTitle": false,
     "tableResultSettingsMap": {},
     "title": ""
    }
   },
   "outputs": [],
   "source": [
    "# テーブル名を指定\n",
    "gold_table_name = \"gold_01\"\n",
    "gold_table_full_name = f\"{catalog_name}.{schema_name}.{gold_table_name}\""
   ]
  },
  {
   "cell_type": "markdown",
   "metadata": {
    "application/vnd.databricks.v1+cell": {
     "cellMetadata": {},
     "inputWidgets": {},
     "nuid": "504a9e76-472a-4af5-916f-3ff128bc73f0",
     "showTitle": false,
     "tableResultSettingsMap": {},
     "title": ""
    }
   },
   "source": [
    "## Gold の処理"
   ]
  },
  {
   "cell_type": "code",
   "execution_count": 0,
   "metadata": {
    "application/vnd.databricks.v1+cell": {
     "cellMetadata": {},
     "inputWidgets": {},
     "nuid": "5e8e9c32-7c72-42ec-b59e-349ece4bd33a",
     "showTitle": false,
     "tableResultSettingsMap": {},
     "title": ""
    }
   },
   "outputs": [],
   "source": [
    "# テーブル名を指定\n",
    "gold_table_name = \"gold_01\"\n",
    "gold_table_full_name = f\"{catalog_name}.{schema_name}.{gold_table_name}\""
   ]
  },
  {
   "cell_type": "code",
   "execution_count": 0,
   "metadata": {
    "application/vnd.databricks.v1+cell": {
     "cellMetadata": {
      "byteLimit": 2048000,
      "rowLimit": 10000
     },
     "inputWidgets": {},
     "nuid": "ee9148ea-7b12-47e4-96bf-9d1971865c16",
     "showTitle": false,
     "tableResultSettingsMap": {},
     "title": ""
    }
   },
   "outputs": [],
   "source": [
    "# Gold テーブルを作成\n",
    "res_df = spark.sql(f\"\"\"\n",
    "CREATE OR REPLACE TABLE {gold_table_full_name}\n",
    "AS SELECT\n",
    "  n_regionkey AS region_key,\n",
    "  count(n_nationkey) AS count_of_sales\n",
    "FROM\n",
    "  {silver_table_full_name}\n",
    "GROUP BY\n",
    "  n_regionkey;\n",
    "\"\"\")\n",
    "res_df.display()"
   ]
  },
  {
   "cell_type": "code",
   "execution_count": 0,
   "metadata": {
    "application/vnd.databricks.v1+cell": {
     "cellMetadata": {},
     "inputWidgets": {},
     "nuid": "e94b0e82-534d-408a-8099-193b2929faa9",
     "showTitle": false,
     "tableResultSettingsMap": {},
     "title": ""
    }
   },
   "outputs": [],
   "source": [
    "# Gold テーブルを作成\n",
    "res_df = spark.sql(f\"\"\"\n",
    "CREATE OR REPLACE TABLE {gold_table_full_name}\n",
    "AS SELECT\n",
    "  n_regionkey AS region_key,\n",
    "  count(n_nationkey) AS count_of_sales\n",
    "FROM\n",
    "  {silver_table_full_name}\n",
    "GROUP BY\n",
    "  n_regionkey;\n",
    "\"\"\")\n",
    "res_df.display()"
   ]
  },
  {
   "cell_type": "code",
   "execution_count": 0,
   "metadata": {
    "application/vnd.databricks.v1+cell": {
     "cellMetadata": {
      "byteLimit": 2048000,
      "rowLimit": 10000
     },
     "inputWidgets": {},
     "nuid": "3fd586ed-814c-48d5-bc74-4ef6d163d816",
     "showTitle": false,
     "tableResultSettingsMap": {
      "0": {
       "dataGridStateBlob": "{\"version\":1,\"tableState\":{\"columnPinning\":{\"left\":[\"#row_number#\"],\"right\":[]},\"columnSizing\":{},\"columnVisibility\":{}},\"settings\":{\"columns\":{}},\"syncTimestamp\":1756189438363}",
       "filterBlob": null,
       "queryPlanFiltersBlob": null,
       "tableResultIndex": 0
      }
     },
     "title": ""
    }
   },
   "outputs": [],
   "source": [
    "# データの確認\n",
    "df = spark.table(gold_table_full_name)\n",
    "df.display()"
   ]
  },
  {
   "cell_type": "code",
   "execution_count": 0,
   "metadata": {
    "application/vnd.databricks.v1+cell": {
     "cellMetadata": {
      "byteLimit": 2048000,
      "rowLimit": 10000
     },
     "inputWidgets": {},
     "nuid": "86ba79a3-52c9-4435-a4b1-96135d1caf2b",
     "showTitle": false,
     "tableResultSettingsMap": {},
     "title": ""
    }
   },
   "outputs": [],
   "source": [
    "# データの活用（region マスターと結合等）\n",
    "df = spark.sql(\n",
    "    f\"\"\"\n",
    "    SELECT\n",
    "        dm.region_key,\n",
    "        rg.r_name,\n",
    "        dm.count_of_sales\n",
    "        FROM {gold_table_full_name} dm\n",
    "\n",
    "        INNER JOIN samples.tpch.region rg\n",
    "            ON dm.region_key = rg.r_regionkey\n",
    "\n",
    "    \"\"\"\n",
    ")\n",
    "df.display()"
   ]
  },
  {
   "cell_type": "markdown",
   "metadata": {
    "application/vnd.databricks.v1+cell": {
     "cellMetadata": {},
     "inputWidgets": {},
     "nuid": "60d4473b-0783-4340-98aa-0fa07e558570",
     "showTitle": false,
     "tableResultSettingsMap": {},
     "title": ""
    }
   },
   "source": [
    "## Bronze -> Silver -> Gold の一連の処理処理"
   ]
  },
  {
   "cell_type": "markdown",
   "metadata": {
    "application/vnd.databricks.v1+cell": {
     "cellMetadata": {},
     "inputWidgets": {},
     "nuid": "c8057b99-1d51-4cd9-905a-89a4885fa1a7",
     "showTitle": false,
     "tableResultSettingsMap": {},
     "title": ""
    }
   },
   "source": [
    "### Landing（ソースデータ）の準備"
   ]
  },
  {
   "cell_type": "code",
   "execution_count": 0,
   "metadata": {
    "application/vnd.databricks.v1+cell": {
     "cellMetadata": {
      "byteLimit": 2048000,
      "rowLimit": 10000
     },
     "inputWidgets": {},
     "nuid": "d4b60825-b612-4deb-a0da-57ec93aa4770",
     "showTitle": false,
     "tableResultSettingsMap": {},
     "title": ""
    }
   },
   "outputs": [],
   "source": [
    "%run ./02_medalion_data"
   ]
  },
  {
   "cell_type": "code",
   "execution_count": 0,
   "metadata": {
    "application/vnd.databricks.v1+cell": {
     "cellMetadata": {
      "byteLimit": 2048000,
      "rowLimit": 10000
     },
     "inputWidgets": {},
     "nuid": "5fea7dd2-0a23-484d-85b6-61d0c2d1d8f2",
     "showTitle": false,
     "tableResultSettingsMap": {},
     "title": ""
    }
   },
   "outputs": [],
   "source": [
    "print(\"-- 新規データ\")\n",
    "print(data_02)\n",
    "print()\n",
    "print(\"-- 前回データ\")\n",
    "print(data_01)"
   ]
  },
  {
   "cell_type": "code",
   "execution_count": 0,
   "metadata": {
    "application/vnd.databricks.v1+cell": {
     "cellMetadata": {
      "byteLimit": 2048000,
      "rowLimit": 10000
     },
     "inputWidgets": {},
     "nuid": "944325d9-7a82-4c2a-b523-b31f300f8023",
     "showTitle": false,
     "tableResultSettingsMap": {},
     "title": ""
    }
   },
   "outputs": [],
   "source": [
    "import os\n",
    "\n",
    "# ディレクトリを定義\n",
    "landing_dir = volume_dir + \"/landing\"\n",
    "\n",
    "# データ取り込み日の Hive パーティションを含めたディレクトリをセット\n",
    "ingest_timestamp = \"/audit__ingest_timestamp=2025-02-01 00:00:00\"\n",
    "file_name = \"data.csv\"\n",
    "\n",
    "file_dir = landing_dir + ingest_timestamp \n",
    "os.makedirs(file_dir, exist_ok=True)\n",
    "\n",
    "file_path = file_dir + \"/\" + file_name\n",
    "print(\"-- csv ファイルのディレクトリ\")\n",
    "print(file_path)\n",
    "\n",
    "# ファイルに書き込む\n",
    "with open(file_path, \"w\", encoding=\"utf-8\") as f:\n",
    "    f.write(data_02)\n",
    "\n",
    "# ファイル内容を確認\n",
    "print()\n",
    "print(\"-- csv ファイル内\")\n",
    "print(dbutils.fs.head(file_path))\n",
    "\n",
    "\n",
    "# landing_dir を指定して Spark でデータを読み込む\n",
    "df = (\n",
    "    spark.read.format(\"csv\")\n",
    "    .option(\"header\", True)\n",
    "    .option(\"inferSchema\", True)\n",
    "    .load(landing_dir)\n",
    ")\n",
    "print()\n",
    "print(\"-- Spark Dataframe\")\n",
    "df.printSchema()\n",
    "df.display()"
   ]
  },
  {
   "cell_type": "markdown",
   "metadata": {
    "application/vnd.databricks.v1+cell": {
     "cellMetadata": {},
     "inputWidgets": {},
     "nuid": "7fd73d0f-b913-42e3-95dd-54ad891fd1d3",
     "showTitle": false,
     "tableResultSettingsMap": {},
     "title": ""
    }
   },
   "source": [
    "### Bronze の処理"
   ]
  },
  {
   "cell_type": "code",
   "execution_count": 0,
   "metadata": {
    "application/vnd.databricks.v1+cell": {
     "cellMetadata": {
      "byteLimit": 2048000,
      "rowLimit": 10000
     },
     "inputWidgets": {},
     "nuid": "42090de1-29f2-4557-9418-099f377e248e",
     "showTitle": false,
     "tableResultSettingsMap": {},
     "title": ""
    }
   },
   "outputs": [],
   "source": [
    "# テーブル名を指定\n",
    "bronze_table_name = \"bronze_01\"\n",
    "bronze_table_full_name = f\"{catalog_name}.{schema_name}.{bronze_table_name}\"\n",
    "\n",
    "# チェックポイントのディレクトリを指定\n",
    "checkpoint_dir_01 = f\"{volume_dir}/bronze_01_checkpoint\"\n",
    "\n",
    "\n",
    "df = (\n",
    "    spark.readStream.format(\"cloudFiles\")\n",
    "    .option(\"cloudFiles.format\", \"csv\")\n",
    "    .option(\"header\", True)\n",
    "    .option(\"inferSchema\", False)\n",
    "    .option(\"cloudFiles.schemaLocation\", checkpoint_dir_01)\n",
    "    .load(landing_dir)\n",
    ")\n",
    "\n",
    "(\n",
    "    df.writeStream.format(\"delta\")\n",
    "    .option(\"mergeSchema\", True)\n",
    "    .option(\"checkpointLocation\", checkpoint_dir_01)\n",
    "    .outputMode(\"append\")\n",
    "    .trigger(availableNow=True)\n",
    "    .table(bronze_table_full_name)\n",
    ")"
   ]
  },
  {
   "cell_type": "code",
   "execution_count": 0,
   "metadata": {
    "application/vnd.databricks.v1+cell": {
     "cellMetadata": {
      "byteLimit": 2048000,
      "rowLimit": 10000
     },
     "inputWidgets": {},
     "nuid": "491759ec-b4a1-4a3a-bd44-2aaa5b656709",
     "showTitle": false,
     "tableResultSettingsMap": {},
     "title": ""
    }
   },
   "outputs": [],
   "source": [
    "import time\n",
    "\n",
    "# 数秒待機\n",
    "time.sleep(2)"
   ]
  },
  {
   "cell_type": "code",
   "execution_count": 0,
   "metadata": {
    "application/vnd.databricks.v1+cell": {
     "cellMetadata": {
      "byteLimit": 2048000,
      "rowLimit": 10000
     },
     "inputWidgets": {},
     "nuid": "60c43d59-c6e0-461e-a3d6-81c59282c98d",
     "showTitle": false,
     "tableResultSettingsMap": {
      "0": {
       "dataGridStateBlob": "{\"version\":1,\"tableState\":{\"columnPinning\":{\"left\":[\"#row_number#\"],\"right\":[]},\"columnSizing\":{},\"columnVisibility\":{}},\"settings\":{\"columns\":{}},\"syncTimestamp\":1756190296597}",
       "filterBlob": null,
       "queryPlanFiltersBlob": null,
       "tableResultIndex": 0
      }
     },
     "title": ""
    }
   },
   "outputs": [],
   "source": [
    "df = spark.table(bronze_table_full_name).orderBy(\"n_nationkey\")\n",
    "df.display()"
   ]
  },
  {
   "cell_type": "markdown",
   "metadata": {
    "application/vnd.databricks.v1+cell": {
     "cellMetadata": {},
     "inputWidgets": {},
     "nuid": "58ddfd4a-5d09-4330-89a7-6de441f681d5",
     "showTitle": false,
     "tableResultSettingsMap": {},
     "title": ""
    }
   },
   "source": [
    "### Silver の処理"
   ]
  },
  {
   "cell_type": "code",
   "execution_count": 0,
   "metadata": {
    "application/vnd.databricks.v1+cell": {
     "cellMetadata": {
      "byteLimit": 2048000,
      "rowLimit": 10000
     },
     "inputWidgets": {},
     "nuid": "7ae1b942-93c1-4d20-8cfd-1951fb9736ab",
     "showTitle": false,
     "tableResultSettingsMap": {},
     "title": ""
    }
   },
   "outputs": [],
   "source": [
    "# bronze table における主キーごとの最新レコードを取得\n",
    "slv_records = f\"\"\"\n",
    "SELECT\n",
    "    n_nationkey,\n",
    "    MAX(audit__ingest_timestamp) AS max_ingest_timestamp\n",
    "    FROM\n",
    "        {bronze_table_full_name}\n",
    "    GROUP BY\n",
    "        n_nationkey\n",
    "\"\"\"\n",
    "slv_records_df = spark.sql(slv_records)\n",
    "\n",
    "# 一時ビューを定義\n",
    "temp_view_name = \"slv_records\"\n",
    "slv_records_df.createOrReplaceTempView(temp_view_name)\n",
    "\n",
    "# データを確認\n",
    "slv_records_df.display()"
   ]
  },
  {
   "cell_type": "code",
   "execution_count": 0,
   "metadata": {
    "application/vnd.databricks.v1+cell": {
     "cellMetadata": {
      "byteLimit": 2048000,
      "rowLimit": 10000
     },
     "inputWidgets": {},
     "nuid": "ebcf18ab-9ae3-47b6-95e7-42da6847c3f5",
     "showTitle": false,
     "tableResultSettingsMap": {},
     "title": ""
    }
   },
   "outputs": [],
   "source": [
    "# Siver テーブルに反映対象のデータを取得\n",
    "brz_to_slv_sql = f\"\"\"\n",
    "SELECT\n",
    "    TRY_CAST(brz.n_nationkey AS INT) AS n_nationkey,\n",
    "    brz.n_name,\n",
    "    TRY_CAST(brz.n_regionkey AS INT) AS n_regionkey,\n",
    "    brz.n_comment,\n",
    "    audit__ingest_timestamp AS audit__ingest_timestamp\n",
    "    FROM\n",
    "        {bronze_table_full_name} AS brz\n",
    "    INNER JOIN \n",
    "        slv_records AS slv\n",
    "        ON \n",
    "            brz.n_nationkey =  slv.n_nationkey\n",
    "            AND brz.audit__ingest_timestamp =  slv.max_ingest_timestamp\n",
    "\"\"\"\n",
    "df = spark.sql(brz_to_slv_sql)\n",
    "\n",
    "# dropDuplicates関数にて、主キーの一意性を保証。連携日ごとの一意性が保証されないことがあるため。\n",
    "df = df.drop_duplicates(['n_nationkey'])\n",
    "\n",
    "df.display()"
   ]
  },
  {
   "cell_type": "code",
   "execution_count": 0,
   "metadata": {
    "application/vnd.databricks.v1+cell": {
     "cellMetadata": {
      "byteLimit": 2048000,
      "rowLimit": 10000
     },
     "inputWidgets": {},
     "nuid": "df3995fd-c4d9-4eb4-9426-b5c0b666b437",
     "showTitle": false,
     "tableResultSettingsMap": {},
     "title": ""
    }
   },
   "outputs": [],
   "source": [
    "# Merge処理を実行\n",
    "temp_view_name_02 = f'_tmp_product2__silver'\n",
    "df.createOrReplaceTempView(temp_view_name_02)\n",
    "\n",
    "returned_df = spark.sql(f'''\n",
    "MERGE INTO {silver_table_full_name} AS tgt\n",
    "  USING {temp_view_name_02} AS src\n",
    "  \n",
    "  ON tgt.n_nationkey = src.n_nationkey \n",
    "\n",
    "  WHEN MATCHED\n",
    "  AND tgt.audit__ingest_timestamp < src.audit__ingest_timestamp\n",
    "    THEN UPDATE SET *\n",
    "  WHEN NOT MATCHED\n",
    "    THEN INSERT *\n",
    "''')\n",
    "returned_df.display()"
   ]
  },
  {
   "cell_type": "code",
   "execution_count": 0,
   "metadata": {
    "application/vnd.databricks.v1+cell": {
     "cellMetadata": {
      "byteLimit": 2048000,
      "rowLimit": 10000
     },
     "inputWidgets": {},
     "nuid": "4e5f630c-4777-4a08-a77e-3a45d6990d4c",
     "showTitle": false,
     "tableResultSettingsMap": {},
     "title": ""
    }
   },
   "outputs": [],
   "source": [
    "df = spark.table(silver_table_full_name).orderBy(\"n_nationkey\")\n",
    "df.display()\n"
   ]
  },
  {
   "cell_type": "markdown",
   "metadata": {
    "application/vnd.databricks.v1+cell": {
     "cellMetadata": {},
     "inputWidgets": {},
     "nuid": "c8898ed2-9ce9-4ddf-b7fd-e5c87b20b33d",
     "showTitle": false,
     "tableResultSettingsMap": {},
     "title": ""
    }
   },
   "source": [
    "### Gold の処理"
   ]
  },
  {
   "cell_type": "code",
   "execution_count": 0,
   "metadata": {
    "application/vnd.databricks.v1+cell": {
     "cellMetadata": {
      "byteLimit": 2048000,
      "rowLimit": 10000
     },
     "inputWidgets": {},
     "nuid": "0ffbb3ad-a0ba-47e2-9116-5ab2556a9b7f",
     "showTitle": false,
     "tableResultSettingsMap": {},
     "title": ""
    }
   },
   "outputs": [],
   "source": [
    "# テーブル名を指定\n",
    "gold_table_name = \"gold_01\"\n",
    "gold_table_full_name = f\"{catalog_name}.{schema_name}.{gold_table_name}\""
   ]
  },
  {
   "cell_type": "code",
   "execution_count": 0,
   "metadata": {
    "application/vnd.databricks.v1+cell": {
     "cellMetadata": {
      "byteLimit": 2048000,
      "rowLimit": 10000
     },
     "inputWidgets": {},
     "nuid": "7ff2b83d-6f0b-4aea-8623-700be4e5f0dd",
     "showTitle": false,
     "tableResultSettingsMap": {},
     "title": ""
    }
   },
   "outputs": [],
   "source": [
    "# Gold テーブルを作成\n",
    "res_df = spark.sql(f\"\"\"\n",
    "CREATE OR REPLACE TABLE {gold_table_full_name}\n",
    "AS SELECT\n",
    "  n_regionkey AS region_key,\n",
    "  count(n_nationkey) AS count_of_sales\n",
    "FROM\n",
    "  {silver_table_full_name}\n",
    "GROUP BY\n",
    "  n_regionkey;\n",
    "\"\"\")\n",
    "res_df.display()"
   ]
  },
  {
   "cell_type": "code",
   "execution_count": 0,
   "metadata": {
    "application/vnd.databricks.v1+cell": {
     "cellMetadata": {
      "byteLimit": 2048000,
      "rowLimit": 10000
     },
     "inputWidgets": {},
     "nuid": "195253ae-032e-430a-b3e2-a8250cbe7394",
     "showTitle": false,
     "tableResultSettingsMap": {},
     "title": ""
    }
   },
   "outputs": [],
   "source": [
    "# データの確認\n",
    "df = spark.table(gold_table_full_name)\n",
    "df.display()"
   ]
  },
  {
   "cell_type": "code",
   "execution_count": 0,
   "metadata": {
    "application/vnd.databricks.v1+cell": {
     "cellMetadata": {},
     "inputWidgets": {},
     "nuid": "b50e282d-4734-413f-9672-42ce0c4a8f08",
     "showTitle": false,
     "tableResultSettingsMap": {},
     "title": ""
    }
   },
   "outputs": [],
   "source": [
    "# end"
   ]
  }
 ],
 "metadata": {
  "application/vnd.databricks.v1+notebook": {
   "computePreferences": {
    "hardware": {
     "accelerator": null,
     "gpuPoolId": null,
     "memory": null
    }
   },
   "dashboards": [],
   "environmentMetadata": {
    "base_environment": "",
    "environment_version": "3"
   },
   "inputWidgetPreferences": null,
   "language": "python",
   "notebookMetadata": {
    "mostRecentlyExecutedCommandWithImplicitDF": {
     "commandId": 8166450434236653,
     "dataframes": [
      "_sqldf"
     ]
    },
    "pythonIndentUnit": 4
   },
   "notebookName": "02_medalion",
   "widgets": {}
  },
  "language_info": {
   "name": "python"
  }
 },
 "nbformat": 4,
 "nbformat_minor": 0
}
