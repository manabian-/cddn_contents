{
 "cells": [
  {
   "cell_type": "code",
   "execution_count": 0,
   "metadata": {
    "application/vnd.databricks.v1+cell": {
     "cellMetadata": {},
     "inputWidgets": {},
     "nuid": "5cc550f4-41e9-44b9-b9ae-c1aaf973e5a9",
     "showTitle": false,
     "tableResultSettingsMap": {},
     "title": ""
    }
   },
   "outputs": [],
   "source": [
    "# 本ノートブックは 02_medalion ノートブックで利用するデータを定義"
   ]
  },
  {
   "cell_type": "code",
   "execution_count": 0,
   "metadata": {
    "application/vnd.databricks.v1+cell": {
     "cellMetadata": {
      "byteLimit": 2048000,
      "rowLimit": 10000
     },
     "inputWidgets": {},
     "nuid": "d403a1b9-32d3-4dc0-b1eb-938f94ade401",
     "showTitle": false,
     "tableResultSettingsMap": {},
     "title": ""
    }
   },
   "outputs": [],
   "source": [
    "data_01 = \"\"\"\n",
    "n_nationkey,n_name,n_regionkey,n_comment\n",
    "0,ALGERIA,0,\" haggle. carefully final deposits detect slyly agai\"\n",
    "1,ARGENTINA,1,\"al foxes promise slyly according to the regular accounts. bold requests alon\"\n",
    "2,,1,\"\" \n",
    "3,,1,\"\"\n",
    "\"\"\".strip()"
   ]
  },
  {
   "cell_type": "code",
   "execution_count": 0,
   "metadata": {
    "application/vnd.databricks.v1+cell": {
     "cellMetadata": {},
     "inputWidgets": {},
     "nuid": "4047108b-ee5b-426d-8bc1-78b9d17bdddd",
     "showTitle": false,
     "tableResultSettingsMap": {},
     "title": ""
    }
   },
   "outputs": [],
   "source": [
    "data_02 = \"\"\"\n",
    "n_nationkey,n_name,n_regionkey,n_comment\n",
    "2,BRAZIL,1,\"y alongside of the pending deposits. carefully special packages are about the ironic forges. slyly special\" \n",
    "3,CANADA,1,\"eas hang ironic, silent packages. slyly regular packages are furiously over the tithes. fluffily bold\"\n",
    "4,EGYPT,4,\"y above the carefully unusual theodolites. final dugouts are quickly across the furiously regular d\"\n",
    "5,ETHIOPIA,0,\"ven packages wake quickly. regu\"\n",
    "6,FRANCE,3,\"refully final requests. regular, ironi\"\n",
    "\"\"\".strip()"
   ]
  }
 ],
 "metadata": {
  "application/vnd.databricks.v1+notebook": {
   "computePreferences": null,
   "dashboards": [],
   "environmentMetadata": {
    "base_environment": "",
    "environment_version": "3"
   },
   "inputWidgetPreferences": null,
   "language": "python",
   "notebookMetadata": {
    "pythonIndentUnit": 4
   },
   "notebookName": "02_medalion_data",
   "widgets": {}
  },
  "language_info": {
   "name": "python"
  }
 },
 "nbformat": 4,
 "nbformat_minor": 0
}
