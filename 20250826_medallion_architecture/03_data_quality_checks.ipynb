{
 "cells": [
  {
   "cell_type": "markdown",
   "metadata": {
    "application/vnd.databricks.v1+cell": {
     "cellMetadata": {},
     "inputWidgets": {},
     "nuid": "018d331a-1535-4a9e-9058-043a1af29082",
     "showTitle": false,
     "tableResultSettingsMap": {},
     "title": ""
    }
   },
   "source": [
    "# パイプラインにおけるデータ品質チェックによるデータの隔離\n"
   ]
  },
  {
   "cell_type": "markdown",
   "metadata": {
    "application/vnd.databricks.v1+cell": {
     "cellMetadata": {},
     "inputWidgets": {},
     "nuid": "9567385c-6806-48b4-926b-a92f00fe2008",
     "showTitle": false,
     "tableResultSettingsMap": {},
     "title": ""
    }
   },
   "source": [
    "\n",
    "本ノートブックでは、 DQX によるデータ品質チェックを実施して、データを隔離する方法を紹介します。\n"
   ]
  },
  {
   "cell_type": "markdown",
   "metadata": {
    "application/vnd.databricks.v1+cell": {
     "cellMetadata": {},
     "inputWidgets": {},
     "nuid": "fa18d976-7ca8-4773-889f-6a7ac5132ec3",
     "showTitle": false,
     "tableResultSettingsMap": {},
     "title": ""
    }
   },
   "source": [
    "## Databricks 提供の DQX(Data Quality Framework)のインストール"
   ]
  },
  {
   "cell_type": "code",
   "execution_count": 0,
   "metadata": {
    "application/vnd.databricks.v1+cell": {
     "cellMetadata": {
      "byteLimit": 2048000,
      "rowLimit": 10000
     },
     "inputWidgets": {},
     "nuid": "fcb29149-6e2c-4a3b-a9fe-757656ab3d69",
     "showTitle": false,
     "tableResultSettingsMap": {},
     "title": ""
    }
   },
   "outputs": [],
   "source": [
    "%pip install databricks-labs-dqx -q\n",
    "dbutils.library.restartPython()"
   ]
  },
  {
   "cell_type": "markdown",
   "metadata": {
    "application/vnd.databricks.v1+cell": {
     "cellMetadata": {},
     "inputWidgets": {},
     "nuid": "f0a5baad-7fa4-4d12-b959-6aa2b45991ec",
     "showTitle": false,
     "tableResultSettingsMap": {},
     "title": ""
    }
   },
   "source": [
    "## サンプルデータの準備"
   ]
  },
  {
   "cell_type": "code",
   "execution_count": 0,
   "metadata": {
    "application/vnd.databricks.v1+cell": {
     "cellMetadata": {
      "byteLimit": 2048000,
      "rowLimit": 10000
     },
     "inputWidgets": {},
     "nuid": "8587d2a2-6e7a-4e62-93c0-37b64a857a42",
     "showTitle": false,
     "tableResultSettingsMap": {},
     "title": ""
    }
   },
   "outputs": [],
   "source": [
    "data = [\n",
    "    {\"id\": 1, \"amount\": 100,  \"order_date\": \"2025-01-01\"},   # 正常\n",
    "    {\"id\": 2, \"amount\": \"二百\",\"order_date\": \"2025-02-01\"},  # amount と が数値に変換不可\n",
    "    {\"id\": None, \"amount\": 300, \"order_date\": \"2025-04-01\"},  # order_no が null\n",
    "    {\"id\": None, \"amount\": \"四百\", \"order_date\": \"2025:08:24\"},  # 全部 NG\n",
    "]"
   ]
  },
  {
   "cell_type": "code",
   "execution_count": 0,
   "metadata": {
    "application/vnd.databricks.v1+cell": {
     "cellMetadata": {
      "byteLimit": 2048000,
      "rowLimit": 10000
     },
     "inputWidgets": {},
     "nuid": "1a329a44-9201-43e0-80d2-3738c2a32201",
     "showTitle": false,
     "tableResultSettingsMap": {
      "0": {
       "dataGridStateBlob": "{\"version\":1,\"tableState\":{\"columnPinning\":{\"left\":[\"#row_number#\"],\"right\":[]},\"columnSizing\":{},\"columnVisibility\":{}},\"settings\":{\"columns\":{}},\"syncTimestamp\":1756191925531}",
       "filterBlob": null,
       "queryPlanFiltersBlob": null,
       "tableResultIndex": 0
      }
     },
     "title": ""
    }
   },
   "outputs": [],
   "source": [
    "# 文字型で読まない場合にデータが損失する事象を確認\n",
    "bad_df = spark.createDataFrame(data)\n",
    "bad_df.createOrReplaceTempView(\"_tmp\")\n",
    "bad_df = spark.sql(\n",
    "    \"\"\"\n",
    "    SELECT\n",
    "        TRY_CAST(id AS INT) AS id,\n",
    "        TRY_CAST(amount AS DECIMAL(18,2)) AS amount,\n",
    "        TRY_CAST(order_date AS date) AS order_date\n",
    "        FROM\n",
    "            _tmp\n",
    "    \"\"\"\n",
    ")\n",
    "display(bad_df)"
   ]
  },
  {
   "cell_type": "code",
   "execution_count": 0,
   "metadata": {
    "application/vnd.databricks.v1+cell": {
     "cellMetadata": {
      "byteLimit": 2048000,
      "rowLimit": 10000
     },
     "inputWidgets": {},
     "nuid": "00549c74-83f7-4045-aeb0-199ef2c1cdc8",
     "showTitle": false,
     "tableResultSettingsMap": {
      "0": {
       "dataGridStateBlob": "{\"version\":1,\"tableState\":{\"columnPinning\":{\"left\":[\"#row_number#\"],\"right\":[]},\"columnSizing\":{},\"columnVisibility\":{}},\"settings\":{\"columns\":{}},\"syncTimestamp\":1756192306653}",
       "filterBlob": null,
       "queryPlanFiltersBlob": null,
       "tableResultIndex": 0
      }
     },
     "title": ""
    }
   },
   "outputs": [],
   "source": [
    "# 文字型に読み込むことでデータを確認\n",
    "string_schema = \"\"\"\n",
    "id STRING,\n",
    "amount STRING,\n",
    "order_date STRING\n",
    "\"\"\"\n",
    "df = spark.createDataFrame(data, string_schema)\n",
    "display(df)"
   ]
  },
  {
   "cell_type": "markdown",
   "metadata": {
    "application/vnd.databricks.v1+cell": {
     "cellMetadata": {},
     "inputWidgets": {},
     "nuid": "3c6a841c-8b4b-4dfa-a15a-d9cfbb059a8a",
     "showTitle": false,
     "tableResultSettingsMap": {},
     "title": ""
    }
   },
   "source": [
    "## データ品質チェックによるデータの隔離"
   ]
  },
  {
   "cell_type": "code",
   "execution_count": 0,
   "metadata": {
    "application/vnd.databricks.v1+cell": {
     "cellMetadata": {
      "byteLimit": 2048000,
      "rowLimit": 10000
     },
     "inputWidgets": {},
     "nuid": "d47ae456-6223-42c9-a02a-d3d7bd9bbfc4",
     "showTitle": false,
     "tableResultSettingsMap": {},
     "title": ""
    }
   },
   "outputs": [],
   "source": [
    "from databricks.sdk import WorkspaceClient\n",
    "from databricks.labs.dqx.engine import DQEngine"
   ]
  },
  {
   "cell_type": "code",
   "execution_count": 0,
   "metadata": {
    "application/vnd.databricks.v1+cell": {
     "cellMetadata": {
      "byteLimit": 2048000,
      "rowLimit": 10000
     },
     "inputWidgets": {},
     "nuid": "7aefe91a-e53e-4f05-8765-3092748ae410",
     "showTitle": false,
     "tableResultSettingsMap": {},
     "title": ""
    }
   },
   "outputs": [],
   "source": [
    "# 品質チェック条件を記述。YAML でも記述可。\n",
    "checks = [\n",
    "    # 1) NOT NULL\n",
    "    {\n",
    "        \"criticality\": \"error\",\n",
    "        \"check\": {\"function\": \"is_not_null\", \"arguments\": {\"column\": \"id\"}},\n",
    "    },\n",
    "    # 2) 一意性（id の重複を検出）\n",
    "    {\n",
    "        \"criticality\": \"error\",\n",
    "        \"check\": {\"function\": \"is_unique\", \"arguments\": {\"columns\": [\"id\"]}},\n",
    "    },\n",
    "    # 3) データ型変換\n",
    "    {\n",
    "        \"criticality\": \"error\",\n",
    "        \"name\": \"amount_castable_to_decimal\",\n",
    "        \"check\": {\n",
    "            \"function\": \"sql_expression\",\n",
    "            \"arguments\": {\n",
    "                \"expression\": \"try_cast(amount as decimal(18,2)) IS NOT NULL OR amount IS NULL\",\n",
    "                \"msg\": \"amount cannot be cast to DECIMAL(18,2)\",\n",
    "            },\n",
    "        },\n",
    "    },\n",
    "    {\n",
    "        \"criticality\": \"error\",\n",
    "        \"name\": \"order_date_castable_to_date\",\n",
    "        \"check\": {\n",
    "            \"function\": \"sql_expression\",\n",
    "            \"arguments\": {\n",
    "                \"expression\": \"try_cast(order_date as date) IS NOT NULL OR order_date IS NULL\",\n",
    "                \"msg\": \"order_date cannot be cast to DATE\",\n",
    "            },\n",
    "        },\n",
    "    },\n",
    "]"
   ]
  },
  {
   "cell_type": "code",
   "execution_count": 0,
   "metadata": {
    "application/vnd.databricks.v1+cell": {
     "cellMetadata": {
      "byteLimit": 2048000,
      "rowLimit": 10000
     },
     "inputWidgets": {},
     "nuid": "9c7103c6-ac9d-4a6b-9b5b-a47145ec3ce8",
     "showTitle": false,
     "tableResultSettingsMap": {},
     "title": ""
    }
   },
   "outputs": [],
   "source": [
    "# データ品質によるデータ隔離を実施\n",
    "dq = DQEngine(WorkspaceClient())\n",
    "raw_of_output_df, raw_of_error_df = dq.apply_checks_by_metadata_and_split(df, checks)\n",
    "\n",
    "print(\"-- GOOD (合格)\")\n",
    "display(raw_of_output_df)\n",
    "\n",
    "print(\"--- BAD / QUARANTINE (不良・隔離)\")\n",
    "display(raw_of_error_df)"
   ]
  },
  {
   "cell_type": "markdown",
   "metadata": {
    "application/vnd.databricks.v1+cell": {
     "cellMetadata": {},
     "inputWidgets": {},
     "nuid": "f3636e45-f0b8-4106-acd3-8d26ac1b69eb",
     "showTitle": false,
     "tableResultSettingsMap": {},
     "title": ""
    }
   },
   "source": [
    "## Next Step\n",
    "\n",
    "[Demos | DQX](https://databrickslabs.github.io/dqx/docs/demos/)にて、 DQX に対する理解を深めましょう。\n",
    "\n",
    "![dqx](./.images/demos_dqx.png)\n"
   ]
  },
  {
   "cell_type": "code",
   "execution_count": 0,
   "metadata": {
    "application/vnd.databricks.v1+cell": {
     "cellMetadata": {},
     "inputWidgets": {},
     "nuid": "3e23d253-3605-442d-91ca-320ada24eb10",
     "showTitle": false,
     "tableResultSettingsMap": {},
     "title": ""
    }
   },
   "outputs": [],
   "source": [
    "# end"
   ]
  }
 ],
 "metadata": {
  "application/vnd.databricks.v1+notebook": {
   "computePreferences": null,
   "dashboards": [],
   "environmentMetadata": {
    "base_environment": "",
    "environment_version": "3"
   },
   "inputWidgetPreferences": null,
   "language": "python",
   "notebookMetadata": {
    "mostRecentlyExecutedCommandWithImplicitDF": {
     "commandId": 6850005048242262,
     "dataframes": [
      "_sqldf"
     ]
    },
    "pythonIndentUnit": 4
   },
   "notebookName": "03_data_quality_checks",
   "widgets": {}
  },
  "language_info": {
   "name": "python"
  }
 },
 "nbformat": 4,
 "nbformat_minor": 0
}
